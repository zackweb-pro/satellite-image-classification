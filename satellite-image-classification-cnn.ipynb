{
 "cells": [
  {
   "cell_type": "code",
   "execution_count": 49,
   "metadata": {},
   "outputs": [
    {
     "name": "stdout",
     "output_type": "stream",
     "text": [
      "Requirement already satisfied: pip in ./.venv/lib/python3.12/site-packages (25.2)\n",
      "Requirement already satisfied: pandas in ./.venv/lib/python3.12/site-packages (2.3.2)\n",
      "Requirement already satisfied: numpy in ./.venv/lib/python3.12/site-packages (2.3.3)\n",
      "Requirement already satisfied: pandas in ./.venv/lib/python3.12/site-packages (2.3.2)\n",
      "Requirement already satisfied: numpy in ./.venv/lib/python3.12/site-packages (2.3.3)\n",
      "Requirement already satisfied: pandas in ./.venv/lib/python3.12/site-packages (2.3.2)\n",
      "Requirement already satisfied: numpy in ./.venv/lib/python3.12/site-packages (2.3.3)\n",
      "Requirement already satisfied: scikit-learn in ./.venv/lib/python3.12/site-packages (1.7.2)\n",
      "Requirement already satisfied: matplotlib in ./.venv/lib/python3.12/site-packages (3.10.6)\n",
      "Requirement already satisfied: pillow in ./.venv/lib/python3.12/site-packages (11.3.0)\n",
      "Requirement already satisfied: requests in ./.venv/lib/python3.12/site-packages (2.32.5)\n",
      "Requirement already satisfied: tensorflow in ./.venv/lib/python3.12/site-packages (2.20.0)\n",
      "Requirement already satisfied: keras in ./.venv/lib/python3.12/site-packages (3.11.3)\n",
      "Requirement already satisfied: python-dateutil>=2.8.2 in ./.venv/lib/python3.12/site-packages (from pandas) (2.9.0.post0)\n",
      "Requirement already satisfied: pytz>=2020.1 in ./.venv/lib/python3.12/site-packages (from pandas) (2025.2)\n",
      "Requirement already satisfied: tzdata>=2022.7 in ./.venv/lib/python3.12/site-packages (from pandas) (2025.2)\n",
      "Requirement already satisfied: scipy>=1.8.0 in ./.venv/lib/python3.12/site-packages (from scikit-learn) (1.16.1)\n",
      "Requirement already satisfied: joblib>=1.2.0 in ./.venv/lib/python3.12/site-packages (from scikit-learn) (1.5.2)\n",
      "Requirement already satisfied: scikit-learn in ./.venv/lib/python3.12/site-packages (1.7.2)\n",
      "Requirement already satisfied: matplotlib in ./.venv/lib/python3.12/site-packages (3.10.6)\n",
      "Requirement already satisfied: pillow in ./.venv/lib/python3.12/site-packages (11.3.0)\n",
      "Requirement already satisfied: requests in ./.venv/lib/python3.12/site-packages (2.32.5)\n",
      "Requirement already satisfied: tensorflow in ./.venv/lib/python3.12/site-packages (2.20.0)\n",
      "Requirement already satisfied: keras in ./.venv/lib/python3.12/site-packages (3.11.3)\n",
      "Requirement already satisfied: python-dateutil>=2.8.2 in ./.venv/lib/python3.12/site-packages (from pandas) (2.9.0.post0)\n",
      "Requirement already satisfied: pytz>=2020.1 in ./.venv/lib/python3.12/site-packages (from pandas) (2025.2)\n",
      "Requirement already satisfied: tzdata>=2022.7 in ./.venv/lib/python3.12/site-packages (from pandas) (2025.2)\n",
      "Requirement already satisfied: scipy>=1.8.0 in ./.venv/lib/python3.12/site-packages (from scikit-learn) (1.16.1)\n",
      "Requirement already satisfied: joblib>=1.2.0 in ./.venv/lib/python3.12/site-packages (from scikit-learn) (1.5.2)\n",
      "Requirement already satisfied: scikit-learn in ./.venv/lib/python3.12/site-packages (1.7.2)\n",
      "Requirement already satisfied: matplotlib in ./.venv/lib/python3.12/site-packages (3.10.6)\n",
      "Requirement already satisfied: pillow in ./.venv/lib/python3.12/site-packages (11.3.0)\n",
      "Requirement already satisfied: requests in ./.venv/lib/python3.12/site-packages (2.32.5)\n",
      "Requirement already satisfied: tensorflow in ./.venv/lib/python3.12/site-packages (2.20.0)\n",
      "Requirement already satisfied: keras in ./.venv/lib/python3.12/site-packages (3.11.3)\n",
      "Requirement already satisfied: python-dateutil>=2.8.2 in ./.venv/lib/python3.12/site-packages (from pandas) (2.9.0.post0)\n",
      "Requirement already satisfied: pytz>=2020.1 in ./.venv/lib/python3.12/site-packages (from pandas) (2025.2)\n",
      "Requirement already satisfied: tzdata>=2022.7 in ./.venv/lib/python3.12/site-packages (from pandas) (2025.2)\n",
      "Requirement already satisfied: scipy>=1.8.0 in ./.venv/lib/python3.12/site-packages (from scikit-learn) (1.16.1)\n",
      "Requirement already satisfied: joblib>=1.2.0 in ./.venv/lib/python3.12/site-packages (from scikit-learn) (1.5.2)\n",
      "Requirement already satisfied: threadpoolctl>=3.1.0 in ./.venv/lib/python3.12/site-packages (from scikit-learn) (3.6.0)\n",
      "Requirement already satisfied: contourpy>=1.0.1 in ./.venv/lib/python3.12/site-packages (from matplotlib) (1.3.3)\n",
      "Requirement already satisfied: cycler>=0.10 in ./.venv/lib/python3.12/site-packages (from matplotlib) (0.12.1)\n",
      "Requirement already satisfied: fonttools>=4.22.0 in ./.venv/lib/python3.12/site-packages (from matplotlib) (4.59.2)\n",
      "Requirement already satisfied: kiwisolver>=1.3.1 in ./.venv/lib/python3.12/site-packages (from matplotlib) (1.4.9)\n",
      "Requirement already satisfied: packaging>=20.0 in ./.venv/lib/python3.12/site-packages (from matplotlib) (25.0)\n",
      "Requirement already satisfied: pyparsing>=2.3.1 in ./.venv/lib/python3.12/site-packages (from matplotlib) (3.2.3)\n",
      "Requirement already satisfied: charset_normalizer<4,>=2 in ./.venv/lib/python3.12/site-packages (from requests) (3.4.3)\n",
      "Requirement already satisfied: idna<4,>=2.5 in ./.venv/lib/python3.12/site-packages (from requests) (3.10)\n",
      "Requirement already satisfied: urllib3<3,>=1.21.1 in ./.venv/lib/python3.12/site-packages (from requests) (2.5.0)\n",
      "Requirement already satisfied: certifi>=2017.4.17 in ./.venv/lib/python3.12/site-packages (from requests) (2025.8.3)\n",
      "Requirement already satisfied: threadpoolctl>=3.1.0 in ./.venv/lib/python3.12/site-packages (from scikit-learn) (3.6.0)\n",
      "Requirement already satisfied: contourpy>=1.0.1 in ./.venv/lib/python3.12/site-packages (from matplotlib) (1.3.3)\n",
      "Requirement already satisfied: cycler>=0.10 in ./.venv/lib/python3.12/site-packages (from matplotlib) (0.12.1)\n",
      "Requirement already satisfied: fonttools>=4.22.0 in ./.venv/lib/python3.12/site-packages (from matplotlib) (4.59.2)\n",
      "Requirement already satisfied: kiwisolver>=1.3.1 in ./.venv/lib/python3.12/site-packages (from matplotlib) (1.4.9)\n",
      "Requirement already satisfied: packaging>=20.0 in ./.venv/lib/python3.12/site-packages (from matplotlib) (25.0)\n",
      "Requirement already satisfied: pyparsing>=2.3.1 in ./.venv/lib/python3.12/site-packages (from matplotlib) (3.2.3)\n",
      "Requirement already satisfied: charset_normalizer<4,>=2 in ./.venv/lib/python3.12/site-packages (from requests) (3.4.3)\n",
      "Requirement already satisfied: idna<4,>=2.5 in ./.venv/lib/python3.12/site-packages (from requests) (3.10)\n",
      "Requirement already satisfied: urllib3<3,>=1.21.1 in ./.venv/lib/python3.12/site-packages (from requests) (2.5.0)\n",
      "Requirement already satisfied: certifi>=2017.4.17 in ./.venv/lib/python3.12/site-packages (from requests) (2025.8.3)\n",
      "Requirement already satisfied: threadpoolctl>=3.1.0 in ./.venv/lib/python3.12/site-packages (from scikit-learn) (3.6.0)\n",
      "Requirement already satisfied: contourpy>=1.0.1 in ./.venv/lib/python3.12/site-packages (from matplotlib) (1.3.3)\n",
      "Requirement already satisfied: cycler>=0.10 in ./.venv/lib/python3.12/site-packages (from matplotlib) (0.12.1)\n",
      "Requirement already satisfied: fonttools>=4.22.0 in ./.venv/lib/python3.12/site-packages (from matplotlib) (4.59.2)\n",
      "Requirement already satisfied: kiwisolver>=1.3.1 in ./.venv/lib/python3.12/site-packages (from matplotlib) (1.4.9)\n",
      "Requirement already satisfied: packaging>=20.0 in ./.venv/lib/python3.12/site-packages (from matplotlib) (25.0)\n",
      "Requirement already satisfied: pyparsing>=2.3.1 in ./.venv/lib/python3.12/site-packages (from matplotlib) (3.2.3)\n",
      "Requirement already satisfied: charset_normalizer<4,>=2 in ./.venv/lib/python3.12/site-packages (from requests) (3.4.3)\n",
      "Requirement already satisfied: idna<4,>=2.5 in ./.venv/lib/python3.12/site-packages (from requests) (3.10)\n",
      "Requirement already satisfied: urllib3<3,>=1.21.1 in ./.venv/lib/python3.12/site-packages (from requests) (2.5.0)\n",
      "Requirement already satisfied: certifi>=2017.4.17 in ./.venv/lib/python3.12/site-packages (from requests) (2025.8.3)\n",
      "Requirement already satisfied: absl-py>=1.0.0 in ./.venv/lib/python3.12/site-packages (from tensorflow) (2.3.1)\n",
      "Requirement already satisfied: astunparse>=1.6.0 in ./.venv/lib/python3.12/site-packages (from tensorflow) (1.6.3)\n",
      "Requirement already satisfied: flatbuffers>=24.3.25 in ./.venv/lib/python3.12/site-packages (from tensorflow) (25.2.10)\n",
      "Requirement already satisfied: gast!=0.5.0,!=0.5.1,!=0.5.2,>=0.2.1 in ./.venv/lib/python3.12/site-packages (from tensorflow) (0.6.0)\n",
      "Requirement already satisfied: google_pasta>=0.1.1 in ./.venv/lib/python3.12/site-packages (from tensorflow) (0.2.0)\n",
      "Requirement already satisfied: libclang>=13.0.0 in ./.venv/lib/python3.12/site-packages (from tensorflow) (18.1.1)\n",
      "Requirement already satisfied: opt_einsum>=2.3.2 in ./.venv/lib/python3.12/site-packages (from tensorflow) (3.4.0)\n",
      "Requirement already satisfied: protobuf>=5.28.0 in ./.venv/lib/python3.12/site-packages (from tensorflow) (6.32.0)\n",
      "Requirement already satisfied: setuptools in ./.venv/lib/python3.12/site-packages (from tensorflow) (80.9.0)\n",
      "Requirement already satisfied: six>=1.12.0 in ./.venv/lib/python3.12/site-packages (from tensorflow) (1.17.0)\n",
      "Requirement already satisfied: termcolor>=1.1.0 in ./.venv/lib/python3.12/site-packages (from tensorflow) (3.1.0)\n",
      "Requirement already satisfied: typing_extensions>=3.6.6 in ./.venv/lib/python3.12/site-packages (from tensorflow) (4.15.0)\n",
      "Requirement already satisfied: wrapt>=1.11.0 in ./.venv/lib/python3.12/site-packages (from tensorflow) (1.17.3)\n",
      "Requirement already satisfied: grpcio<2.0,>=1.24.3 in ./.venv/lib/python3.12/site-packages (from tensorflow) (1.74.0)\n",
      "Requirement already satisfied: tensorboard~=2.20.0 in ./.venv/lib/python3.12/site-packages (from tensorflow) (2.20.0)\n",
      "Requirement already satisfied: h5py>=3.11.0 in ./.venv/lib/python3.12/site-packages (from tensorflow) (3.14.0)\n",
      "Requirement already satisfied: ml_dtypes<1.0.0,>=0.5.1 in ./.venv/lib/python3.12/site-packages (from tensorflow) (0.5.3)\n",
      "Requirement already satisfied: markdown>=2.6.8 in ./.venv/lib/python3.12/site-packages (from tensorboard~=2.20.0->tensorflow) (3.9)\n",
      "Requirement already satisfied: absl-py>=1.0.0 in ./.venv/lib/python3.12/site-packages (from tensorflow) (2.3.1)\n",
      "Requirement already satisfied: astunparse>=1.6.0 in ./.venv/lib/python3.12/site-packages (from tensorflow) (1.6.3)\n",
      "Requirement already satisfied: flatbuffers>=24.3.25 in ./.venv/lib/python3.12/site-packages (from tensorflow) (25.2.10)\n",
      "Requirement already satisfied: gast!=0.5.0,!=0.5.1,!=0.5.2,>=0.2.1 in ./.venv/lib/python3.12/site-packages (from tensorflow) (0.6.0)\n",
      "Requirement already satisfied: google_pasta>=0.1.1 in ./.venv/lib/python3.12/site-packages (from tensorflow) (0.2.0)\n",
      "Requirement already satisfied: libclang>=13.0.0 in ./.venv/lib/python3.12/site-packages (from tensorflow) (18.1.1)\n",
      "Requirement already satisfied: opt_einsum>=2.3.2 in ./.venv/lib/python3.12/site-packages (from tensorflow) (3.4.0)\n",
      "Requirement already satisfied: protobuf>=5.28.0 in ./.venv/lib/python3.12/site-packages (from tensorflow) (6.32.0)\n",
      "Requirement already satisfied: setuptools in ./.venv/lib/python3.12/site-packages (from tensorflow) (80.9.0)\n",
      "Requirement already satisfied: six>=1.12.0 in ./.venv/lib/python3.12/site-packages (from tensorflow) (1.17.0)\n",
      "Requirement already satisfied: termcolor>=1.1.0 in ./.venv/lib/python3.12/site-packages (from tensorflow) (3.1.0)\n",
      "Requirement already satisfied: typing_extensions>=3.6.6 in ./.venv/lib/python3.12/site-packages (from tensorflow) (4.15.0)\n",
      "Requirement already satisfied: wrapt>=1.11.0 in ./.venv/lib/python3.12/site-packages (from tensorflow) (1.17.3)\n",
      "Requirement already satisfied: grpcio<2.0,>=1.24.3 in ./.venv/lib/python3.12/site-packages (from tensorflow) (1.74.0)\n",
      "Requirement already satisfied: tensorboard~=2.20.0 in ./.venv/lib/python3.12/site-packages (from tensorflow) (2.20.0)\n",
      "Requirement already satisfied: h5py>=3.11.0 in ./.venv/lib/python3.12/site-packages (from tensorflow) (3.14.0)\n",
      "Requirement already satisfied: ml_dtypes<1.0.0,>=0.5.1 in ./.venv/lib/python3.12/site-packages (from tensorflow) (0.5.3)\n",
      "Requirement already satisfied: markdown>=2.6.8 in ./.venv/lib/python3.12/site-packages (from tensorboard~=2.20.0->tensorflow) (3.9)\n",
      "Requirement already satisfied: absl-py>=1.0.0 in ./.venv/lib/python3.12/site-packages (from tensorflow) (2.3.1)\n",
      "Requirement already satisfied: astunparse>=1.6.0 in ./.venv/lib/python3.12/site-packages (from tensorflow) (1.6.3)\n",
      "Requirement already satisfied: flatbuffers>=24.3.25 in ./.venv/lib/python3.12/site-packages (from tensorflow) (25.2.10)\n",
      "Requirement already satisfied: gast!=0.5.0,!=0.5.1,!=0.5.2,>=0.2.1 in ./.venv/lib/python3.12/site-packages (from tensorflow) (0.6.0)\n",
      "Requirement already satisfied: google_pasta>=0.1.1 in ./.venv/lib/python3.12/site-packages (from tensorflow) (0.2.0)\n",
      "Requirement already satisfied: libclang>=13.0.0 in ./.venv/lib/python3.12/site-packages (from tensorflow) (18.1.1)\n",
      "Requirement already satisfied: opt_einsum>=2.3.2 in ./.venv/lib/python3.12/site-packages (from tensorflow) (3.4.0)\n",
      "Requirement already satisfied: protobuf>=5.28.0 in ./.venv/lib/python3.12/site-packages (from tensorflow) (6.32.0)\n",
      "Requirement already satisfied: setuptools in ./.venv/lib/python3.12/site-packages (from tensorflow) (80.9.0)\n",
      "Requirement already satisfied: six>=1.12.0 in ./.venv/lib/python3.12/site-packages (from tensorflow) (1.17.0)\n",
      "Requirement already satisfied: termcolor>=1.1.0 in ./.venv/lib/python3.12/site-packages (from tensorflow) (3.1.0)\n",
      "Requirement already satisfied: typing_extensions>=3.6.6 in ./.venv/lib/python3.12/site-packages (from tensorflow) (4.15.0)\n",
      "Requirement already satisfied: wrapt>=1.11.0 in ./.venv/lib/python3.12/site-packages (from tensorflow) (1.17.3)\n",
      "Requirement already satisfied: grpcio<2.0,>=1.24.3 in ./.venv/lib/python3.12/site-packages (from tensorflow) (1.74.0)\n",
      "Requirement already satisfied: tensorboard~=2.20.0 in ./.venv/lib/python3.12/site-packages (from tensorflow) (2.20.0)\n",
      "Requirement already satisfied: h5py>=3.11.0 in ./.venv/lib/python3.12/site-packages (from tensorflow) (3.14.0)\n",
      "Requirement already satisfied: ml_dtypes<1.0.0,>=0.5.1 in ./.venv/lib/python3.12/site-packages (from tensorflow) (0.5.3)\n",
      "Requirement already satisfied: markdown>=2.6.8 in ./.venv/lib/python3.12/site-packages (from tensorboard~=2.20.0->tensorflow) (3.9)\n",
      "Requirement already satisfied: tensorboard-data-server<0.8.0,>=0.7.0 in ./.venv/lib/python3.12/site-packages (from tensorboard~=2.20.0->tensorflow) (0.7.2)\n",
      "Requirement already satisfied: werkzeug>=1.0.1 in ./.venv/lib/python3.12/site-packages (from tensorboard~=2.20.0->tensorflow) (3.1.3)\n",
      "Requirement already satisfied: rich in ./.venv/lib/python3.12/site-packages (from keras) (14.1.0)\n",
      "Requirement already satisfied: namex in ./.venv/lib/python3.12/site-packages (from keras) (0.1.0)\n",
      "Requirement already satisfied: optree in ./.venv/lib/python3.12/site-packages (from keras) (0.17.0)\n",
      "Requirement already satisfied: wheel<1.0,>=0.23.0 in ./.venv/lib/python3.12/site-packages (from astunparse>=1.6.0->tensorflow) (0.45.1)\n",
      "Requirement already satisfied: tensorboard-data-server<0.8.0,>=0.7.0 in ./.venv/lib/python3.12/site-packages (from tensorboard~=2.20.0->tensorflow) (0.7.2)\n",
      "Requirement already satisfied: werkzeug>=1.0.1 in ./.venv/lib/python3.12/site-packages (from tensorboard~=2.20.0->tensorflow) (3.1.3)\n",
      "Requirement already satisfied: rich in ./.venv/lib/python3.12/site-packages (from keras) (14.1.0)\n",
      "Requirement already satisfied: namex in ./.venv/lib/python3.12/site-packages (from keras) (0.1.0)\n",
      "Requirement already satisfied: optree in ./.venv/lib/python3.12/site-packages (from keras) (0.17.0)\n",
      "Requirement already satisfied: wheel<1.0,>=0.23.0 in ./.venv/lib/python3.12/site-packages (from astunparse>=1.6.0->tensorflow) (0.45.1)\n",
      "Requirement already satisfied: tensorboard-data-server<0.8.0,>=0.7.0 in ./.venv/lib/python3.12/site-packages (from tensorboard~=2.20.0->tensorflow) (0.7.2)\n",
      "Requirement already satisfied: werkzeug>=1.0.1 in ./.venv/lib/python3.12/site-packages (from tensorboard~=2.20.0->tensorflow) (3.1.3)\n",
      "Requirement already satisfied: rich in ./.venv/lib/python3.12/site-packages (from keras) (14.1.0)\n",
      "Requirement already satisfied: namex in ./.venv/lib/python3.12/site-packages (from keras) (0.1.0)\n",
      "Requirement already satisfied: optree in ./.venv/lib/python3.12/site-packages (from keras) (0.17.0)\n",
      "Requirement already satisfied: wheel<1.0,>=0.23.0 in ./.venv/lib/python3.12/site-packages (from astunparse>=1.6.0->tensorflow) (0.45.1)\n",
      "Requirement already satisfied: MarkupSafe>=2.1.1 in ./.venv/lib/python3.12/site-packages (from werkzeug>=1.0.1->tensorboard~=2.20.0->tensorflow) (3.0.2)\n",
      "Requirement already satisfied: MarkupSafe>=2.1.1 in ./.venv/lib/python3.12/site-packages (from werkzeug>=1.0.1->tensorboard~=2.20.0->tensorflow) (3.0.2)\n",
      "Requirement already satisfied: MarkupSafe>=2.1.1 in ./.venv/lib/python3.12/site-packages (from werkzeug>=1.0.1->tensorboard~=2.20.0->tensorflow) (3.0.2)\n",
      "Requirement already satisfied: markdown-it-py>=2.2.0 in ./.venv/lib/python3.12/site-packages (from rich->keras) (4.0.0)\n",
      "Requirement already satisfied: pygments<3.0.0,>=2.13.0 in ./.venv/lib/python3.12/site-packages (from rich->keras) (2.19.2)\n",
      "Requirement already satisfied: mdurl~=0.1 in ./.venv/lib/python3.12/site-packages (from markdown-it-py>=2.2.0->rich->keras) (0.1.2)\n",
      "Requirement already satisfied: markdown-it-py>=2.2.0 in ./.venv/lib/python3.12/site-packages (from rich->keras) (4.0.0)\n",
      "Requirement already satisfied: pygments<3.0.0,>=2.13.0 in ./.venv/lib/python3.12/site-packages (from rich->keras) (2.19.2)\n",
      "Requirement already satisfied: mdurl~=0.1 in ./.venv/lib/python3.12/site-packages (from markdown-it-py>=2.2.0->rich->keras) (0.1.2)\n",
      "Requirement already satisfied: markdown-it-py>=2.2.0 in ./.venv/lib/python3.12/site-packages (from rich->keras) (4.0.0)\n",
      "Requirement already satisfied: pygments<3.0.0,>=2.13.0 in ./.venv/lib/python3.12/site-packages (from rich->keras) (2.19.2)\n",
      "Requirement already satisfied: mdurl~=0.1 in ./.venv/lib/python3.12/site-packages (from markdown-it-py>=2.2.0->rich->keras) (0.1.2)\n",
      "Requirement already satisfied: pydot in ./.venv/lib/python3.12/site-packages (4.0.1)\n",
      "Requirement already satisfied: graphviz in ./.venv/lib/python3.12/site-packages (0.21)\n",
      "Requirement already satisfied: pyparsing>=3.1.0 in ./.venv/lib/python3.12/site-packages (from pydot) (3.2.3)\n",
      "Requirement already satisfied: pydot in ./.venv/lib/python3.12/site-packages (4.0.1)\n",
      "Requirement already satisfied: graphviz in ./.venv/lib/python3.12/site-packages (0.21)\n",
      "Requirement already satisfied: pyparsing>=3.1.0 in ./.venv/lib/python3.12/site-packages (from pydot) (3.2.3)\n",
      "Requirement already satisfied: pydot in ./.venv/lib/python3.12/site-packages (4.0.1)\n",
      "Requirement already satisfied: graphviz in ./.venv/lib/python3.12/site-packages (0.21)\n",
      "Requirement already satisfied: pyparsing>=3.1.0 in ./.venv/lib/python3.12/site-packages (from pydot) (3.2.3)\n",
      "apt-get not available\n",
      "apt-get not available\n",
      "apt-get not available\n"
     ]
    }
   ],
   "source": [
    "# --- Add this as the first code cell in your notebook ---\n",
    "\n",
    "# Install required packages\n",
    "!pip install --upgrade pip\n",
    "!pip install pandas numpy scikit-learn matplotlib pillow requests tensorflow keras\n",
    "\n",
    "# For plotting model architecture\n",
    "!pip install pydot graphviz\n",
    "\n",
    "# For displaying images in Jupyter\n",
    "!apt-get install -y graphviz > /dev/null 2>&1 || echo \"apt-get not available\""
   ]
  },
  {
   "cell_type": "markdown",
   "metadata": {},
   "source": [
    "# Satellite Image Classification"
   ]
  },
  {
   "cell_type": "markdown",
   "metadata": {},
   "source": [
    "![](https://cff2.earth.com/uploads/2019/08/09193739/satellite-67718_1280-960x640.jpg)"
   ]
  },
  {
   "cell_type": "markdown",
   "metadata": {},
   "source": [
    "[Image Source](https://www.earth.com/earthpedia-articles/how-many-satellites-in-space-do-we-know-about/)"
   ]
  },
  {
   "cell_type": "markdown",
   "metadata": {},
   "source": [
    "The \"Satellite Image Classification\" dataset on Kaggle is a collection of satellite images labeled with classes such as \"Cloudy\", \"Desert\", \"Green_Area\", and \"Water\". The data is made up of satellite images of size 256x256, and can be used for computer vision tasks such as image classification."
   ]
  },
  {
   "cell_type": "markdown",
   "metadata": {},
   "source": [
    "# Satellite Image Classification Model\n",
    "\n",
    "---"
   ]
  },
  {
   "cell_type": "markdown",
   "metadata": {},
   "source": [
    "# GPU Being Used:"
   ]
  },
  {
   "cell_type": "code",
   "execution_count": 50,
   "metadata": {
    "execution": {
     "iopub.execute_input": "2023-03-08T10:55:33.921186Z",
     "iopub.status.busy": "2023-03-08T10:55:33.920119Z",
     "iopub.status.idle": "2023-03-08T10:55:35.170308Z",
     "shell.execute_reply": "2023-03-08T10:55:35.168784Z",
     "shell.execute_reply.started": "2023-03-08T10:55:33.921067Z"
    },
    "id": "-8psAoGGNLw1",
    "outputId": "d64cfffb-da90-4127-81f5-d480d59271d5",
    "trusted": true
   },
   "outputs": [
    {
     "name": "stdout",
     "output_type": "stream",
     "text": [
      "Tue Sep  9 22:24:35 2025       \n",
      "+-----------------------------------------------------------------------------------------+\n",
      "| NVIDIA-SMI 550.163.01             Driver Version: 550.163.01     CUDA Version: 12.4     |\n",
      "|-----------------------------------------+------------------------+----------------------+\n",
      "| GPU  Name                 Persistence-M | Bus-Id          Disp.A | Volatile Uncorr. ECC |\n",
      "| Fan  Temp   Perf          Pwr:Usage/Cap |           Memory-Usage | GPU-Util  Compute M. |\n",
      "|                                         |                        |               MIG M. |\n",
      "|=========================================+========================+======================|\n",
      "|   0  NVIDIA GeForce GTX 1050 Ti     Off |   00000000:01:00.0 Off |                  N/A |\n",
      "| N/A   51C    P8             N/A / ERR!  |       7MiB /   4096MiB |      0%      Default |\n",
      "|                                         |                        |                  N/A |\n",
      "+-----------------------------------------+------------------------+----------------------+\n",
      "                                                                                         \n",
      "+-----------------------------------------------------------------------------------------+\n",
      "| Processes:                                                                              |\n",
      "|  GPU   GI   CI        PID   Type   Process name                              GPU Memory |\n",
      "|        ID   ID                                                               Usage      |\n",
      "|=========================================================================================|\n",
      "|    0   N/A  N/A      2836      G   /usr/lib/xorg/Xorg                              4MiB |\n",
      "+-----------------------------------------------------------------------------------------+\n",
      "|   0  NVIDIA GeForce GTX 1050 Ti     Off |   00000000:01:00.0 Off |                  N/A |\n",
      "| N/A   51C    P8             N/A / ERR!  |       7MiB /   4096MiB |      0%      Default |\n",
      "|                                         |                        |                  N/A |\n",
      "+-----------------------------------------+------------------------+----------------------+\n",
      "                                                                                         \n",
      "+-----------------------------------------------------------------------------------------+\n",
      "| Processes:                                                                              |\n",
      "|  GPU   GI   CI        PID   Type   Process name                              GPU Memory |\n",
      "|        ID   ID                                                               Usage      |\n",
      "|=========================================================================================|\n",
      "|    0   N/A  N/A      2836      G   /usr/lib/xorg/Xorg                              4MiB |\n",
      "+-----------------------------------------------------------------------------------------+\n",
      "|   0  NVIDIA GeForce GTX 1050 Ti     Off |   00000000:01:00.0 Off |                  N/A |\n",
      "| N/A   51C    P8             N/A / ERR!  |       7MiB /   4096MiB |      0%      Default |\n",
      "|                                         |                        |                  N/A |\n",
      "+-----------------------------------------+------------------------+----------------------+\n",
      "                                                                                         \n",
      "+-----------------------------------------------------------------------------------------+\n",
      "| Processes:                                                                              |\n",
      "|  GPU   GI   CI        PID   Type   Process name                              GPU Memory |\n",
      "|        ID   ID                                                               Usage      |\n",
      "|=========================================================================================|\n",
      "|    0   N/A  N/A      2836      G   /usr/lib/xorg/Xorg                              4MiB |\n",
      "+-----------------------------------------------------------------------------------------+\n"
     ]
    }
   ],
   "source": [
    "!nvidia-smi"
   ]
  },
  {
   "cell_type": "markdown",
   "metadata": {},
   "source": [
    "# Data Pre-processing:"
   ]
  },
  {
   "cell_type": "code",
   "execution_count": 51,
   "metadata": {
    "execution": {
     "iopub.execute_input": "2023-03-08T10:55:35.179653Z",
     "iopub.status.busy": "2023-03-08T10:55:35.176798Z",
     "iopub.status.idle": "2023-03-08T10:55:35.198916Z",
     "shell.execute_reply": "2023-03-08T10:55:35.197516Z",
     "shell.execute_reply.started": "2023-03-08T10:55:35.179609Z"
    },
    "id": "R9IPXMR3NFIK",
    "trusted": true
   },
   "outputs": [],
   "source": [
    "import pandas as pd\n",
    "import os\n",
    "\n",
    "# Create an empty dataframe\n",
    "data = pd.DataFrame(columns=['image_path', 'label'])\n",
    "\n",
    "# Define the labels/classes\n",
    "labels = {'data/cloudy' : 'Cloudy',\n",
    "          'data/desert' : 'Desert',\n",
    "          'data/green_area' : 'Green_Area',\n",
    "          'data/water' : 'Water',\n",
    "           }"
   ]
  },
  {
   "cell_type": "code",
   "execution_count": 52,
   "metadata": {
    "execution": {
     "iopub.execute_input": "2023-03-08T10:55:35.201266Z",
     "iopub.status.busy": "2023-03-08T10:55:35.200586Z",
     "iopub.status.idle": "2023-03-08T10:55:47.594657Z",
     "shell.execute_reply": "2023-03-08T10:55:47.593679Z",
     "shell.execute_reply.started": "2023-03-08T10:55:35.201230Z"
    },
    "id": "vGBDArAbOXu-",
    "trusted": true
   },
   "outputs": [],
   "source": [
    "# Collect rows in a list instead of using append\n",
    "rows = []\n",
    "for folder in labels:\n",
    "    for image_name in os.listdir(folder):\n",
    "        image_path = os.path.join(folder, image_name)\n",
    "        label = labels[folder]\n",
    "        rows.append({'image_path': image_path, 'label': label})\n",
    "\n",
    "# Create the DataFrame once at the end\n",
    "data = pd.DataFrame(rows)"
   ]
  },
  {
   "cell_type": "code",
   "execution_count": 53,
   "metadata": {
    "execution": {
     "iopub.execute_input": "2023-03-08T10:55:47.597937Z",
     "iopub.status.busy": "2023-03-08T10:55:47.597476Z",
     "iopub.status.idle": "2023-03-08T10:55:47.617936Z",
     "shell.execute_reply": "2023-03-08T10:55:47.616866Z",
     "shell.execute_reply.started": "2023-03-08T10:55:47.597896Z"
    },
    "id": "skyu6XftObel",
    "trusted": true
   },
   "outputs": [],
   "source": [
    "# Save the data to a CSV file\n",
    "data.to_csv('image_dataset.csv', index=False)"
   ]
  },
  {
   "cell_type": "code",
   "execution_count": 54,
   "metadata": {
    "execution": {
     "iopub.execute_input": "2023-03-08T10:55:47.619888Z",
     "iopub.status.busy": "2023-03-08T10:55:47.619474Z",
     "iopub.status.idle": "2023-03-08T10:55:52.859432Z",
     "shell.execute_reply": "2023-03-08T10:55:52.858441Z",
     "shell.execute_reply.started": "2023-03-08T10:55:47.619834Z"
    },
    "id": "YIFmx6TzOwKi",
    "trusted": true
   },
   "outputs": [],
   "source": [
    "import pandas as pd\n",
    "import numpy as np\n",
    "from sklearn.model_selection import train_test_split\n",
    "from tensorflow.keras.preprocessing.image import ImageDataGenerator\n",
    "from tensorflow.keras.models import Sequential\n",
    "from tensorflow.keras.layers import Conv2D, MaxPooling2D, Flatten, Dense, Dropout"
   ]
  },
  {
   "cell_type": "code",
   "execution_count": 55,
   "metadata": {
    "execution": {
     "iopub.execute_input": "2023-03-08T10:55:52.861698Z",
     "iopub.status.busy": "2023-03-08T10:55:52.861048Z",
     "iopub.status.idle": "2023-03-08T10:55:52.881993Z",
     "shell.execute_reply": "2023-03-08T10:55:52.881063Z",
     "shell.execute_reply.started": "2023-03-08T10:55:52.861659Z"
    },
    "id": "kzb_78BNOyg0",
    "trusted": true
   },
   "outputs": [],
   "source": [
    "# Load the dataset\n",
    "df = pd.read_csv(\"image_dataset.csv\")"
   ]
  },
  {
   "cell_type": "code",
   "execution_count": 56,
   "metadata": {
    "execution": {
     "iopub.execute_input": "2023-03-08T10:55:52.884285Z",
     "iopub.status.busy": "2023-03-08T10:55:52.883290Z",
     "iopub.status.idle": "2023-03-08T10:55:52.904500Z",
     "shell.execute_reply": "2023-03-08T10:55:52.903646Z",
     "shell.execute_reply.started": "2023-03-08T10:55:52.884247Z"
    },
    "id": "VComKaXXO6hf",
    "outputId": "b8eae1ba-26ff-4984-b2a6-e22fcf0531a6",
    "trusted": true
   },
   "outputs": [
    {
     "data": {
      "text/html": [
       "<div>\n",
       "<style scoped>\n",
       "    .dataframe tbody tr th:only-of-type {\n",
       "        vertical-align: middle;\n",
       "    }\n",
       "\n",
       "    .dataframe tbody tr th {\n",
       "        vertical-align: top;\n",
       "    }\n",
       "\n",
       "    .dataframe thead th {\n",
       "        text-align: right;\n",
       "    }\n",
       "</style>\n",
       "<table border=\"1\" class=\"dataframe\">\n",
       "  <thead>\n",
       "    <tr style=\"text-align: right;\">\n",
       "      <th></th>\n",
       "      <th>image_path</th>\n",
       "      <th>label</th>\n",
       "    </tr>\n",
       "  </thead>\n",
       "  <tbody>\n",
       "    <tr>\n",
       "      <th>0</th>\n",
       "      <td>data/cloudy/train_16253.jpg</td>\n",
       "      <td>Cloudy</td>\n",
       "    </tr>\n",
       "    <tr>\n",
       "      <th>1</th>\n",
       "      <td>data/cloudy/train_11218.jpg</td>\n",
       "      <td>Cloudy</td>\n",
       "    </tr>\n",
       "    <tr>\n",
       "      <th>2</th>\n",
       "      <td>data/cloudy/train_29733.jpg</td>\n",
       "      <td>Cloudy</td>\n",
       "    </tr>\n",
       "    <tr>\n",
       "      <th>3</th>\n",
       "      <td>data/cloudy/train_11844.jpg</td>\n",
       "      <td>Cloudy</td>\n",
       "    </tr>\n",
       "    <tr>\n",
       "      <th>4</th>\n",
       "      <td>data/cloudy/train_30902.jpg</td>\n",
       "      <td>Cloudy</td>\n",
       "    </tr>\n",
       "    <tr>\n",
       "      <th>...</th>\n",
       "      <td>...</td>\n",
       "      <td>...</td>\n",
       "    </tr>\n",
       "    <tr>\n",
       "      <th>5626</th>\n",
       "      <td>data/water/SeaLake_456.jpg</td>\n",
       "      <td>Water</td>\n",
       "    </tr>\n",
       "    <tr>\n",
       "      <th>5627</th>\n",
       "      <td>data/water/SeaLake_779.jpg</td>\n",
       "      <td>Water</td>\n",
       "    </tr>\n",
       "    <tr>\n",
       "      <th>5628</th>\n",
       "      <td>data/water/SeaLake_68.jpg</td>\n",
       "      <td>Water</td>\n",
       "    </tr>\n",
       "    <tr>\n",
       "      <th>5629</th>\n",
       "      <td>data/water/SeaLake_1390.jpg</td>\n",
       "      <td>Water</td>\n",
       "    </tr>\n",
       "    <tr>\n",
       "      <th>5630</th>\n",
       "      <td>data/water/SeaLake_377.jpg</td>\n",
       "      <td>Water</td>\n",
       "    </tr>\n",
       "  </tbody>\n",
       "</table>\n",
       "<p>5631 rows × 2 columns</p>\n",
       "</div>"
      ],
      "text/plain": [
       "                       image_path   label\n",
       "0     data/cloudy/train_16253.jpg  Cloudy\n",
       "1     data/cloudy/train_11218.jpg  Cloudy\n",
       "2     data/cloudy/train_29733.jpg  Cloudy\n",
       "3     data/cloudy/train_11844.jpg  Cloudy\n",
       "4     data/cloudy/train_30902.jpg  Cloudy\n",
       "...                           ...     ...\n",
       "5626   data/water/SeaLake_456.jpg   Water\n",
       "5627   data/water/SeaLake_779.jpg   Water\n",
       "5628    data/water/SeaLake_68.jpg   Water\n",
       "5629  data/water/SeaLake_1390.jpg   Water\n",
       "5630   data/water/SeaLake_377.jpg   Water\n",
       "\n",
       "[5631 rows x 2 columns]"
      ]
     },
     "execution_count": 56,
     "metadata": {},
     "output_type": "execute_result"
    }
   ],
   "source": [
    "df"
   ]
  },
  {
   "cell_type": "code",
   "execution_count": 57,
   "metadata": {
    "execution": {
     "iopub.execute_input": "2023-03-08T10:55:52.906750Z",
     "iopub.status.busy": "2023-03-08T10:55:52.906482Z",
     "iopub.status.idle": "2023-03-08T10:55:52.916389Z",
     "shell.execute_reply": "2023-03-08T10:55:52.914651Z",
     "shell.execute_reply.started": "2023-03-08T10:55:52.906725Z"
    },
    "id": "yweeLcELO8rY",
    "trusted": true
   },
   "outputs": [],
   "source": [
    "# Split the dataset into training and testing sets\n",
    "train_df, test_df = train_test_split(df, test_size=0.2, random_state=42)"
   ]
  },
  {
   "cell_type": "code",
   "execution_count": 58,
   "metadata": {
    "execution": {
     "iopub.execute_input": "2023-03-08T10:55:52.918926Z",
     "iopub.status.busy": "2023-03-08T10:55:52.918156Z",
     "iopub.status.idle": "2023-03-08T10:56:03.222771Z",
     "shell.execute_reply": "2023-03-08T10:56:03.221763Z",
     "shell.execute_reply.started": "2023-03-08T10:55:52.918885Z"
    },
    "id": "2CgWYTyUO-cz",
    "outputId": "e49fe7d1-a3c1-41b9-8940-367507fd6797",
    "trusted": true
   },
   "outputs": [
    {
     "name": "stdout",
     "output_type": "stream",
     "text": [
      "Found 4504 validated image filenames belonging to 4 classes.\n",
      "Found 1127 validated image filenames belonging to 4 classes.\n",
      "Found 1127 validated image filenames belonging to 4 classes.\n",
      "Found 1127 validated image filenames belonging to 4 classes.\n"
     ]
    }
   ],
   "source": [
    "# Pre-process the data\n",
    "train_datagen = ImageDataGenerator(rescale=1./255,\n",
    "                                   shear_range=0.2,\n",
    "                                   zoom_range=0.2,\n",
    "                                   horizontal_flip=True,\n",
    "                                   rotation_range=45,\n",
    "                                   vertical_flip=True,\n",
    "                                   fill_mode='nearest')\n",
    "\n",
    "\n",
    "test_datagen = ImageDataGenerator(rescale=1./255)\n",
    "\n",
    "train_generator = train_datagen.flow_from_dataframe(dataframe=train_df,\n",
    "                                                    x_col=\"image_path\",\n",
    "                                                    y_col=\"label\",\n",
    "                                                    target_size=(255, 255),\n",
    "                                                    batch_size=32,\n",
    "                                                    class_mode=\"categorical\")\n",
    "\n",
    "test_generator = test_datagen.flow_from_dataframe(dataframe=test_df,\n",
    "                                                  x_col=\"image_path\",\n",
    "                                                  y_col=\"label\",\n",
    "                                                  target_size=(255, 255),\n",
    "                                                  batch_size=32,\n",
    "                                                  class_mode=\"categorical\")\n"
   ]
  },
  {
   "cell_type": "markdown",
   "metadata": {},
   "source": [
    "# Deep Learning Model"
   ]
  },
  {
   "cell_type": "code",
   "execution_count": 59,
   "metadata": {
    "execution": {
     "iopub.execute_input": "2023-03-08T10:56:03.232417Z",
     "iopub.status.busy": "2023-03-08T10:56:03.229964Z",
     "iopub.status.idle": "2023-03-08T10:56:06.655354Z",
     "shell.execute_reply": "2023-03-08T10:56:06.654373Z",
     "shell.execute_reply.started": "2023-03-08T10:56:03.232379Z"
    },
    "id": "uM1MII0kPAWW",
    "trusted": true
   },
   "outputs": [
    {
     "name": "stderr",
     "output_type": "stream",
     "text": [
      "/home/zackweb/Desktop/satellite-image-classification/.venv/lib/python3.12/site-packages/keras/src/layers/convolutional/base_conv.py:113: UserWarning: Do not pass an `input_shape`/`input_dim` argument to a layer. When using Sequential models, prefer using an `Input(shape)` object as the first layer in the model instead.\n",
      "  super().__init__(activity_regularizer=activity_regularizer, **kwargs)\n",
      "2025-09-09 22:24:36.193075: W external/local_xla/xla/tsl/framework/cpu_allocator_impl.cc:84] Allocation of 55115776 exceeds 10% of free system memory.\n",
      "2025-09-09 22:24:36.226783: W external/local_xla/xla/tsl/framework/cpu_allocator_impl.cc:84] Allocation of 55115776 exceeds 10% of free system memory.\n"
     ]
    }
   ],
   "source": [
    "# Build a deep learning model\n",
    "model = Sequential()\n",
    "model.add(Conv2D(32, (3, 3), input_shape=(255, 255, 3), activation='relu'))\n",
    "model.add(Conv2D(32, (3, 3), activation='relu', input_shape=(64, 64, 3)))\n",
    "model.add(MaxPooling2D(2, 2))\n",
    "model.add(Conv2D(64, (3, 3), activation='relu'))\n",
    "model.add(MaxPooling2D(2, 2))\n",
    "model.add(Conv2D(128, (3, 3), activation='relu'))\n",
    "model.add(MaxPooling2D(2, 2))\n",
    "model.add(Flatten())\n",
    "model.add(Dense(128, activation='relu'))\n",
    "model.add(Dropout(0.5))\n",
    "model.add(Dense(4, activation='softmax'))"
   ]
  },
  {
   "cell_type": "code",
   "execution_count": 60,
   "metadata": {
    "execution": {
     "iopub.execute_input": "2023-03-08T10:56:06.657512Z",
     "iopub.status.busy": "2023-03-08T10:56:06.657150Z",
     "iopub.status.idle": "2023-03-08T10:56:06.672875Z",
     "shell.execute_reply": "2023-03-08T10:56:06.671738Z",
     "shell.execute_reply.started": "2023-03-08T10:56:06.657477Z"
    },
    "id": "hkW7imvNPDGI",
    "trusted": true
   },
   "outputs": [],
   "source": [
    "model.compile(optimizer='adam', loss='categorical_crossentropy', metrics=['accuracy'])"
   ]
  },
  {
   "cell_type": "code",
   "execution_count": null,
   "metadata": {
    "execution": {
     "iopub.execute_input": "2023-03-08T10:56:06.674699Z",
     "iopub.status.busy": "2023-03-08T10:56:06.674297Z",
     "iopub.status.idle": "2023-03-08T11:02:58.314693Z",
     "shell.execute_reply": "2023-03-08T11:02:58.313700Z",
     "shell.execute_reply.started": "2023-03-08T10:56:06.674657Z"
    },
    "id": "KFZrkUV_PEzE",
    "outputId": "e142c065-3205-4a63-d11a-4935e5c7e278",
    "trusted": true
   },
   "outputs": [
    {
     "name": "stderr",
     "output_type": "stream",
     "text": [
      "/home/zackweb/Desktop/satellite-image-classification/.venv/lib/python3.12/site-packages/keras/src/trainers/data_adapters/py_dataset_adapter.py:121: UserWarning: Your `PyDataset` class should call `super().__init__(**kwargs)` in its constructor. `**kwargs` can include `workers`, `use_multiprocessing`, `max_queue_size`. Do not pass these arguments to `fit()`, as they will be ignored.\n",
      "  self._warn_if_super_not_called()\n"
     ]
    },
    {
     "name": "stdout",
     "output_type": "stream",
     "text": [
      "Epoch 1/5\n",
      "\u001b[1m 14/141\u001b[0m \u001b[32m━\u001b[0m\u001b[37m━━━━━━━━━━━━━━━━━━━\u001b[0m \u001b[1m9:00\u001b[0m 4s/step - accuracy: 0.2919 - loss: 1.3478"
     ]
    }
   ],
   "source": [
    "history = model.fit(train_generator, epochs=5, validation_data=test_generator)"
   ]
  },
  {
   "cell_type": "code",
   "execution_count": null,
   "metadata": {
    "execution": {
     "iopub.execute_input": "2023-03-08T11:02:58.317127Z",
     "iopub.status.busy": "2023-03-08T11:02:58.316650Z",
     "iopub.status.idle": "2023-03-08T11:02:58.330485Z",
     "shell.execute_reply": "2023-03-08T11:02:58.329374Z",
     "shell.execute_reply.started": "2023-03-08T11:02:58.317081Z"
    },
    "id": "dOQzEaS2PGon",
    "trusted": true
   },
   "outputs": [],
   "source": [
    "num_samples = test_df.shape[0]\n",
    "num_samples"
   ]
  },
  {
   "cell_type": "code",
   "execution_count": null,
   "metadata": {
    "execution": {
     "iopub.execute_input": "2023-03-08T11:02:58.332891Z",
     "iopub.status.busy": "2023-03-08T11:02:58.331946Z",
     "iopub.status.idle": "2023-03-08T11:03:01.503350Z",
     "shell.execute_reply": "2023-03-08T11:03:01.502421Z",
     "shell.execute_reply.started": "2023-03-08T11:02:58.332828Z"
    },
    "id": "1i1YaIR2Qib5",
    "trusted": true
   },
   "outputs": [],
   "source": [
    "score = model.evaluate(test_generator,\n",
    "                       steps=num_samples//32+1,\n",
    "                       )"
   ]
  },
  {
   "cell_type": "code",
   "execution_count": null,
   "metadata": {
    "execution": {
     "iopub.execute_input": "2023-03-08T11:03:01.505794Z",
     "iopub.status.busy": "2023-03-08T11:03:01.505407Z",
     "iopub.status.idle": "2023-03-08T11:03:01.515886Z",
     "shell.execute_reply": "2023-03-08T11:03:01.514882Z",
     "shell.execute_reply.started": "2023-03-08T11:03:01.505754Z"
    },
    "trusted": true
   },
   "outputs": [],
   "source": [
    "model.summary"
   ]
  },
  {
   "cell_type": "code",
   "execution_count": null,
   "metadata": {
    "execution": {
     "iopub.execute_input": "2023-03-08T11:03:01.518222Z",
     "iopub.status.busy": "2023-03-08T11:03:01.517835Z",
     "iopub.status.idle": "2023-03-08T11:03:02.618247Z",
     "shell.execute_reply": "2023-03-08T11:03:02.616899Z",
     "shell.execute_reply.started": "2023-03-08T11:03:01.518176Z"
    },
    "trusted": true
   },
   "outputs": [],
   "source": [
    "from tensorflow.keras.utils import plot_model\n",
    "from PIL import Image\n",
    "\n",
    "plot_model(model, to_file='cnn_model.png', show_shapes=True, show_layer_names=True)\n",
    "display(Image.open('cnn_model.png'))"
   ]
  },
  {
   "cell_type": "markdown",
   "metadata": {},
   "source": [
    "# Loss & Accuracy Visualizations"
   ]
  },
  {
   "cell_type": "code",
   "execution_count": null,
   "metadata": {
    "execution": {
     "iopub.execute_input": "2023-03-08T11:03:02.620643Z",
     "iopub.status.busy": "2023-03-08T11:03:02.619650Z",
     "iopub.status.idle": "2023-03-08T11:03:03.085884Z",
     "shell.execute_reply": "2023-03-08T11:03:03.084804Z",
     "shell.execute_reply.started": "2023-03-08T11:03:02.620602Z"
    },
    "id": "biPhT9NBQoRD",
    "trusted": true
   },
   "outputs": [],
   "source": [
    "import matplotlib.pyplot as plt\n",
    "\n",
    "# Plot the loss\n",
    "plt.plot(history.history['loss'], label='Training Loss')\n",
    "plt.plot(history.history['val_loss'], label='Validation Loss')\n",
    "plt.legend()\n",
    "plt.show()\n",
    "plt.savefig('LossVal_loss')\n",
    "\n",
    "# Plot the accuracy\n",
    "plt.plot(history.history['accuracy'], label='Training Accuracy')\n",
    "plt.plot(history.history['val_accuracy'], label='Validation Accuracy')\n",
    "plt.legend()\n",
    "plt.show()\n",
    "plt.savefig('AccVal_acc')"
   ]
  },
  {
   "cell_type": "markdown",
   "metadata": {},
   "source": [
    "# Saving Our Model"
   ]
  },
  {
   "cell_type": "code",
   "execution_count": null,
   "metadata": {
    "execution": {
     "iopub.execute_input": "2023-03-08T11:03:03.088056Z",
     "iopub.status.busy": "2023-03-08T11:03:03.087638Z",
     "iopub.status.idle": "2023-03-08T11:03:03.452953Z",
     "shell.execute_reply": "2023-03-08T11:03:03.451883Z",
     "shell.execute_reply.started": "2023-03-08T11:03:03.088016Z"
    },
    "id": "d3kr-Y7xQovs",
    "trusted": true
   },
   "outputs": [],
   "source": [
    "# save it as a h5 file\n",
    "\n",
    "from tensorflow.keras.models import load_model\n",
    "\n",
    "model.save('Model.h5')"
   ]
  },
  {
   "cell_type": "code",
   "execution_count": null,
   "metadata": {
    "execution": {
     "iopub.execute_input": "2023-03-08T11:03:03.455078Z",
     "iopub.status.busy": "2023-03-08T11:03:03.454672Z",
     "iopub.status.idle": "2023-03-08T11:03:03.994697Z",
     "shell.execute_reply": "2023-03-08T11:03:03.993528Z",
     "shell.execute_reply.started": "2023-03-08T11:03:03.455042Z"
    },
    "id": "RJ0il8zvQrH3",
    "trusted": true
   },
   "outputs": [],
   "source": [
    "# Load the model\n",
    "model = load_model(\"Model.h5\")"
   ]
  },
  {
   "cell_type": "code",
   "execution_count": null,
   "metadata": {
    "execution": {
     "iopub.execute_input": "2023-03-08T11:03:03.996596Z",
     "iopub.status.busy": "2023-03-08T11:03:03.996171Z",
     "iopub.status.idle": "2023-03-08T11:03:04.004967Z",
     "shell.execute_reply": "2023-03-08T11:03:04.003605Z",
     "shell.execute_reply.started": "2023-03-08T11:03:03.996549Z"
    },
    "id": "wv0Dkw69Qvbn",
    "trusted": true
   },
   "outputs": [],
   "source": [
    "import numpy as np\n",
    "from tensorflow.keras.preprocessing.image import load_img, img_to_array\n",
    "\n",
    "# Define the class names\n",
    "class_names = ['Cloudy', 'Desert', 'Green_Area', 'Water']"
   ]
  },
  {
   "cell_type": "code",
   "execution_count": null,
   "metadata": {
    "execution": {
     "iopub.execute_input": "2023-03-08T11:03:04.007931Z",
     "iopub.status.busy": "2023-03-08T11:03:04.007098Z",
     "iopub.status.idle": "2023-03-08T11:03:04.016584Z",
     "shell.execute_reply": "2023-03-08T11:03:04.015413Z",
     "shell.execute_reply.started": "2023-03-08T11:03:04.007888Z"
    },
    "id": "5GYGSdJaQ8j9",
    "trusted": true
   },
   "outputs": [],
   "source": [
    "# Load an image from the test set\n",
    "img = load_img(\"/data/green_area/Forest_1768.jpg\", target_size=(255, 255))"
   ]
  },
  {
   "cell_type": "code",
   "execution_count": null,
   "metadata": {
    "execution": {
     "iopub.execute_input": "2023-03-08T11:03:04.018946Z",
     "iopub.status.busy": "2023-03-08T11:03:04.018467Z",
     "iopub.status.idle": "2023-03-08T11:03:04.032029Z",
     "shell.execute_reply": "2023-03-08T11:03:04.030923Z",
     "shell.execute_reply.started": "2023-03-08T11:03:04.018906Z"
    },
    "id": "XHq2fbkBRK7L",
    "trusted": true
   },
   "outputs": [],
   "source": [
    "# Convert the image to an array\n",
    "img_array = img_to_array(img)\n",
    "img_array"
   ]
  },
  {
   "cell_type": "code",
   "execution_count": null,
   "metadata": {
    "execution": {
     "iopub.execute_input": "2023-03-08T11:03:04.034540Z",
     "iopub.status.busy": "2023-03-08T11:03:04.033621Z",
     "iopub.status.idle": "2023-03-08T11:03:04.041789Z",
     "shell.execute_reply": "2023-03-08T11:03:04.040679Z",
     "shell.execute_reply.started": "2023-03-08T11:03:04.034497Z"
    },
    "id": "sa6UUbPZRMW8",
    "trusted": true
   },
   "outputs": [],
   "source": [
    "img_array.shape"
   ]
  },
  {
   "cell_type": "code",
   "execution_count": null,
   "metadata": {
    "execution": {
     "iopub.execute_input": "2023-03-08T11:03:04.044266Z",
     "iopub.status.busy": "2023-03-08T11:03:04.043166Z",
     "iopub.status.idle": "2023-03-08T11:03:04.054523Z",
     "shell.execute_reply": "2023-03-08T11:03:04.053512Z",
     "shell.execute_reply.started": "2023-03-08T11:03:04.044227Z"
    },
    "id": "JVbdGPP7ROVB",
    "trusted": true
   },
   "outputs": [],
   "source": [
    "# Normalize the image pixel values to the range [0, 1]\n",
    "img_array = img_array / 255.0\n",
    "img_array"
   ]
  },
  {
   "cell_type": "code",
   "execution_count": null,
   "metadata": {
    "execution": {
     "iopub.execute_input": "2023-03-08T11:03:04.057140Z",
     "iopub.status.busy": "2023-03-08T11:03:04.056037Z",
     "iopub.status.idle": "2023-03-08T11:03:04.061728Z",
     "shell.execute_reply": "2023-03-08T11:03:04.060775Z",
     "shell.execute_reply.started": "2023-03-08T11:03:04.057097Z"
    },
    "id": "XUuJcbr7RP9g",
    "trusted": true
   },
   "outputs": [],
   "source": [
    "import numpy as np\n",
    "img_array = np.reshape(img_array, (1, 255, 255, 3))"
   ]
  },
  {
   "cell_type": "markdown",
   "metadata": {},
   "source": [
    "# Using Our Model For Predictions"
   ]
  },
  {
   "cell_type": "code",
   "execution_count": null,
   "metadata": {
    "execution": {
     "iopub.execute_input": "2023-03-08T11:03:04.063897Z",
     "iopub.status.busy": "2023-03-08T11:03:04.062989Z",
     "iopub.status.idle": "2023-03-08T11:03:04.410997Z",
     "shell.execute_reply": "2023-03-08T11:03:04.409981Z",
     "shell.execute_reply.started": "2023-03-08T11:03:04.063860Z"
    },
    "id": "dHJFw-NURTN7",
    "trusted": true
   },
   "outputs": [],
   "source": [
    "# Get the model predictions\n",
    "predictions = model.predict(img_array)"
   ]
  },
  {
   "cell_type": "code",
   "execution_count": null,
   "metadata": {
    "execution": {
     "iopub.execute_input": "2023-03-08T11:03:04.413131Z",
     "iopub.status.busy": "2023-03-08T11:03:04.412751Z",
     "iopub.status.idle": "2023-03-08T11:03:04.420349Z",
     "shell.execute_reply": "2023-03-08T11:03:04.418500Z",
     "shell.execute_reply.started": "2023-03-08T11:03:04.413086Z"
    },
    "id": "seCCvI5_RU8X",
    "trusted": true
   },
   "outputs": [],
   "source": [
    "# Get the class index with the highest predicted probability\n",
    "class_index = np.argmax(predictions[0])\n",
    "\n",
    "# Get the predicted class label\n",
    "predicted_label = class_names[class_index]\n",
    "\n",
    "print(\"The image is predicted to be '{}'.\".format(predicted_label))"
   ]
  },
  {
   "cell_type": "code",
   "execution_count": null,
   "metadata": {
    "execution": {
     "iopub.execute_input": "2023-03-08T11:03:04.428672Z",
     "iopub.status.busy": "2023-03-08T11:03:04.428003Z",
     "iopub.status.idle": "2023-03-08T11:03:04.433474Z",
     "shell.execute_reply": "2023-03-08T11:03:04.432048Z",
     "shell.execute_reply.started": "2023-03-08T11:03:04.428643Z"
    },
    "trusted": true
   },
   "outputs": [],
   "source": [
    "from sklearn.metrics import confusion_matrix\n",
    "import numpy as np"
   ]
  },
  {
   "cell_type": "code",
   "execution_count": null,
   "metadata": {
    "_kg_hide-output": true,
    "execution": {
     "iopub.execute_input": "2023-03-08T11:03:04.436443Z",
     "iopub.status.busy": "2023-03-08T11:03:04.435366Z",
     "iopub.status.idle": "2023-03-08T11:03:07.424186Z",
     "shell.execute_reply": "2023-03-08T11:03:07.423188Z",
     "shell.execute_reply.started": "2023-03-08T11:03:04.436392Z"
    },
    "trusted": true
   },
   "outputs": [],
   "source": [
    "predictions = model.predict(test_generator)"
   ]
  },
  {
   "cell_type": "code",
   "execution_count": null,
   "metadata": {
    "execution": {
     "iopub.execute_input": "2023-03-08T11:03:07.426508Z",
     "iopub.status.busy": "2023-03-08T11:03:07.425941Z",
     "iopub.status.idle": "2023-03-08T11:03:07.436356Z",
     "shell.execute_reply": "2023-03-08T11:03:07.434270Z",
     "shell.execute_reply.started": "2023-03-08T11:03:07.426472Z"
    },
    "trusted": true
   },
   "outputs": [],
   "source": [
    "predictions"
   ]
  },
  {
   "cell_type": "code",
   "execution_count": null,
   "metadata": {
    "execution": {
     "iopub.execute_input": "2023-03-08T11:03:07.438993Z",
     "iopub.status.busy": "2023-03-08T11:03:07.438628Z",
     "iopub.status.idle": "2023-03-08T11:03:07.445615Z",
     "shell.execute_reply": "2023-03-08T11:03:07.444280Z",
     "shell.execute_reply.started": "2023-03-08T11:03:07.438966Z"
    },
    "trusted": true
   },
   "outputs": [],
   "source": [
    "actual_labels = test_generator.classes"
   ]
  },
  {
   "cell_type": "code",
   "execution_count": null,
   "metadata": {
    "execution": {
     "iopub.execute_input": "2023-03-08T11:03:07.448515Z",
     "iopub.status.busy": "2023-03-08T11:03:07.447626Z",
     "iopub.status.idle": "2023-03-08T11:03:07.456864Z",
     "shell.execute_reply": "2023-03-08T11:03:07.455644Z",
     "shell.execute_reply.started": "2023-03-08T11:03:07.448474Z"
    },
    "trusted": true
   },
   "outputs": [],
   "source": [
    "predicted_labels = np.argmax(predictions, axis=1)\n",
    "predicted_labels"
   ]
  },
  {
   "cell_type": "code",
   "execution_count": null,
   "metadata": {
    "execution": {
     "iopub.execute_input": "2023-03-08T11:03:07.459627Z",
     "iopub.status.busy": "2023-03-08T11:03:07.458710Z",
     "iopub.status.idle": "2023-03-08T11:03:07.466394Z",
     "shell.execute_reply": "2023-03-08T11:03:07.465154Z",
     "shell.execute_reply.started": "2023-03-08T11:03:07.459585Z"
    },
    "trusted": true
   },
   "outputs": [],
   "source": [
    "cm = confusion_matrix(actual_labels, predicted_labels)"
   ]
  },
  {
   "cell_type": "code",
   "execution_count": null,
   "metadata": {
    "execution": {
     "iopub.execute_input": "2023-03-08T11:03:07.468986Z",
     "iopub.status.busy": "2023-03-08T11:03:07.468507Z",
     "iopub.status.idle": "2023-03-08T11:03:07.475115Z",
     "shell.execute_reply": "2023-03-08T11:03:07.473916Z",
     "shell.execute_reply.started": "2023-03-08T11:03:07.468946Z"
    },
    "trusted": true
   },
   "outputs": [],
   "source": [
    "print(cm)"
   ]
  },
  {
   "cell_type": "code",
   "execution_count": null,
   "metadata": {
    "execution": {
     "iopub.execute_input": "2023-03-08T11:03:07.477949Z",
     "iopub.status.busy": "2023-03-08T11:03:07.477038Z",
     "iopub.status.idle": "2023-03-08T11:03:07.782922Z",
     "shell.execute_reply": "2023-03-08T11:03:07.781975Z",
     "shell.execute_reply.started": "2023-03-08T11:03:07.477908Z"
    },
    "trusted": true
   },
   "outputs": [],
   "source": [
    "import matplotlib.pyplot as plt\n",
    "import numpy as np\n",
    "import itertools\n",
    "\n",
    "# Confusion matrix\n",
    "\n",
    "\n",
    "# Plot the confusion matrix as an image\n",
    "plt.imshow(cm, cmap=plt.cm.Blues)\n",
    "plt.title(\"Confusion Matrix\")\n",
    "plt.colorbar()\n",
    "\n",
    "# Add the class labels to the plot\n",
    "tick_marks = np.arange(len(class_names))\n",
    "plt.xticks(tick_marks, class_names, rotation=45)\n",
    "plt.yticks(tick_marks, class_names)\n",
    "\n",
    "# Add values to the plot\n",
    "threshold = cm.max() / 2.\n",
    "for i, j in itertools.product(range(cm.shape[0]), range(cm.shape[1])):\n",
    "    plt.text(j, i, cm[i, j],\n",
    "             horizontalalignment=\"center\",\n",
    "             color=\"white\" if cm[i, j] > threshold else \"black\")\n",
    "\n",
    "plt.tight_layout()\n",
    "plt.ylabel(\"True label\")\n",
    "plt.xlabel(\"Predicted label\")\n",
    "plt.show()"
   ]
  },
  {
   "cell_type": "markdown",
   "metadata": {},
   "source": [
    "# Advanced Predictions From URLs"
   ]
  },
  {
   "cell_type": "code",
   "execution_count": null,
   "metadata": {
    "execution": {
     "iopub.execute_input": "2023-03-08T11:03:07.785178Z",
     "iopub.status.busy": "2023-03-08T11:03:07.784534Z",
     "iopub.status.idle": "2023-03-08T11:03:12.323938Z",
     "shell.execute_reply": "2023-03-08T11:03:12.322842Z",
     "shell.execute_reply.started": "2023-03-08T11:03:07.785128Z"
    },
    "id": "DSadyJUjRW2e",
    "trusted": true
   },
   "outputs": [],
   "source": [
    "from io import BytesIO\n",
    "import requests\n",
    "from tensorflow.keras.preprocessing import image\n",
    "import numpy as np\n",
    "import tempfile\n",
    "\n",
    "# Define the class names\n",
    "class_names = ['Cloudy', 'Desert', 'Green_Area', 'Water']\n",
    "\n",
    "url_list = ['https://eoimages.gsfc.nasa.gov/images/imagerecords/92000/92263/goldstone_oli_2018124_lrg.jpg',\n",
    "            'https://images.theconversation.com/files/258323/original/file-20190211-174861-jya1so.jpg?ixlib=rb-1.1.0&q=45&auto=format&w=1356&h=668&fit=crop',\n",
    "            'https://img.freepik.com/free-photo/amazing-beautiful-sky-with-clouds_58702-1657.jpg?w=2000',\n",
    "            'https://i.natgeofe.com/n/54c007c9-50e5-4cf5-83dc-978a35a4373a/68576_16x9.jpg',\n",
    "           ]\n",
    "\n",
    "\n",
    "for url in url_list:\n",
    "    response = requests.get(url)\n",
    "    with tempfile.NamedTemporaryFile(mode='wb') as f:\n",
    "        f.write(response.content)\n",
    "        f.seek(0)\n",
    "        img = image.load_img(f.name, target_size=(255, 255))\n",
    "        img = image.img_to_array(img)\n",
    "        img = np.expand_dims(img, axis=0)\n",
    "\n",
    "        classes = model.predict(img, batch_size=10)\n",
    "        class_index = np.argmax(classes[0])\n",
    "        predicted_label = class_names[class_index]\n",
    "        print(url + \"The image is predicted to be '{}'.\".format(predicted_label))\n"
   ]
  }
 ],
 "metadata": {
  "kernelspec": {
   "display_name": ".venv",
   "language": "python",
   "name": "python3"
  },
  "language_info": {
   "codemirror_mode": {
    "name": "ipython",
    "version": 3
   },
   "file_extension": ".py",
   "mimetype": "text/x-python",
   "name": "python",
   "nbconvert_exporter": "python",
   "pygments_lexer": "ipython3",
   "version": "3.12.3"
  }
 },
 "nbformat": 4,
 "nbformat_minor": 4
}
